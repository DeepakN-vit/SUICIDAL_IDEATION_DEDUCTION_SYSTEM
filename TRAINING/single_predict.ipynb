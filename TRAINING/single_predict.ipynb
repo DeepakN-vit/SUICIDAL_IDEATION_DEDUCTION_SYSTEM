{
 "cells": [
  {
   "cell_type": "code",
   "execution_count": 1,
   "id": "3d55e9fe",
   "metadata": {},
   "outputs": [],
   "source": [
    "from transformers import ElectraTokenizer, ElectraForSequenceClassification\n",
    "import torch"
   ]
  },
  {
   "cell_type": "code",
   "execution_count": 2,
   "id": "0c1394b0",
   "metadata": {},
   "outputs": [],
   "source": [
    "# Load model and tokenizer from TRAINING folder\n",
    "model_path = \"MODELS\""
   ]
  },
  {
   "cell_type": "code",
   "execution_count": 3,
   "id": "e6c4c742",
   "metadata": {},
   "outputs": [],
   "source": [
    "tokenizer = ElectraTokenizer.from_pretrained(model_path)\n",
    "model = ElectraForSequenceClassification.from_pretrained(model_path, num_labels=2)"
   ]
  },
  {
   "cell_type": "code",
   "execution_count": 4,
   "id": "f1e90dbd",
   "metadata": {},
   "outputs": [],
   "source": [
    "# Function to predict\n",
    "def predict_suicidal(text: str):\n",
    "    model.eval()\n",
    "    inputs = tokenizer(text, return_tensors=\"pt\", truncation=True, padding=True, max_length=512)\n",
    "    \n",
    "    with torch.no_grad():\n",
    "        outputs = model(**inputs)\n",
    "        probs = torch.nn.functional.softmax(outputs.logits, dim=1)\n",
    "        pred = torch.argmax(probs).item()\n",
    "        suicide_score = probs[0][1].item()\n",
    "    \n",
    "    label = \"suicide\" if pred == 1 else \"non-suicide\"\n",
    "    return label, suicide_score"
   ]
  },
  {
   "cell_type": "code",
   "execution_count": 7,
   "id": "4035a6c5",
   "metadata": {},
   "outputs": [
    {
     "name": "stdout",
     "output_type": "stream",
     "text": [
      "Prediction: suicide\n",
      "Suicidal Probability: 0.9992\n"
     ]
    }
   ],
   "source": [
    "# Example usage\n",
    "if __name__ == \"__main__\":\n",
    "    text = input(\"Enter a message: \")\n",
    "    prediction, score = predict_suicidal(text)\n",
    "    print(f\"Prediction: {prediction}\")\n",
    "    print(f\"Suicidal Probability: {score:.4f}\")"
   ]
  }
 ],
 "metadata": {
  "kernelspec": {
   "display_name": "Python 3",
   "language": "python",
   "name": "python3"
  },
  "language_info": {
   "codemirror_mode": {
    "name": "ipython",
    "version": 3
   },
   "file_extension": ".py",
   "mimetype": "text/x-python",
   "name": "python",
   "nbconvert_exporter": "python",
   "pygments_lexer": "ipython3",
   "version": "3.11.0"
  }
 },
 "nbformat": 4,
 "nbformat_minor": 5
}
